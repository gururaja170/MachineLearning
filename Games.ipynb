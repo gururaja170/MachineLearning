{
  "nbformat": 4,
  "nbformat_minor": 0,
  "metadata": {
    "colab": {
      "name": "Games",
      "provenance": [],
      "collapsed_sections": [],
      "toc_visible": true,
      "authorship_tag": "ABX9TyPgJHIDTP9Nrr1Txg1op/cb",
      "include_colab_link": true
    },
    "kernelspec": {
      "name": "python3",
      "display_name": "Python 3"
    }
  },
  "cells": [
    {
      "cell_type": "markdown",
      "metadata": {
        "id": "view-in-github",
        "colab_type": "text"
      },
      "source": [
        "<a href=\"https://colab.research.google.com/github/gururaja170/MachineLearning/blob/master/Games.ipynb\" target=\"_parent\"><img src=\"https://colab.research.google.com/assets/colab-badge.svg\" alt=\"Open In Colab\"/></a>"
      ]
    },
    {
      "cell_type": "markdown",
      "metadata": {
        "id": "6Uuvy4XtthxQ",
        "colab_type": "text"
      },
      "source": [
        "# **Dice Rolling Program**"
      ]
    },
    {
      "cell_type": "code",
      "metadata": {
        "id": "whz5X7HXrHcX",
        "colab_type": "code",
        "colab": {}
      },
      "source": [
        "import random\n",
        "ans = \"y\"\n",
        "while(ans == 'y' or ans == 'Y'):\n",
        "    num = random.randint(1,6)\n",
        "    if num == 1:\n",
        "        print(\"---------\")\n",
        "        print(\"|       |\")\n",
        "        print(\"|   o   |\")\n",
        "        print(\"|       |\")\n",
        "        print(\"---------\")\n",
        "    elif num == 2:\n",
        "        print(\"---------\")\n",
        "        print(\"|       |\")\n",
        "        print(\"|  o o  |\")\n",
        "        print(\"|       |\")\n",
        "        print(\"---------\")\n",
        "    elif num == 3:\n",
        "        print(\"---------\")\n",
        "        print(\"|   o   |\")\n",
        "        print(\"|   o   |\")\n",
        "        print(\"|   o   |\")\n",
        "        print(\"---------\")\n",
        "    elif num == 4:\n",
        "        print(\"---------\")\n",
        "        print(\"| o   o |\")\n",
        "        print(\"|       |\")\n",
        "        print(\"| o   o |\")\n",
        "        print(\"---------\")\n",
        "    elif num == 5:\n",
        "        print(\"---------\")\n",
        "        print(\"| o   o |\")\n",
        "        print(\"|   o   |\")\n",
        "        print(\"| o   o |\")\n",
        "        print(\"---------\")\n",
        "    elif num == 6:\n",
        "        print(\"---------\")\n",
        "        print(\"| o   o |\")\n",
        "        print(\"| o   o |\")\n",
        "        print(\"| o   o |\")\n",
        "        print(\"---------\")\n",
        "    ans = input(\"Enter Y to roll the die again: \")\n"
      ],
      "execution_count": null,
      "outputs": []
    },
    {
      "cell_type": "markdown",
      "metadata": {
        "id": "rv00JG5dtfCs",
        "colab_type": "text"
      },
      "source": [
        "# **Hang-man Program**"
      ]
    },
    {
      "cell_type": "code",
      "metadata": {
        "id": "12GE9jTTrNBJ",
        "colab_type": "code",
        "colab": {}
      },
      "source": [
        "import random\n",
        "def guess_game():\n",
        "    words=random.choice([\"Raja\",\"Guru\",\"Machine\",\"Learning\"])\n",
        "    count = 10\n",
        "    guessmade = \"\"\n",
        "    while len(words) > 0:\n",
        "        main = \"\"\n",
        "        for letter in words:\n",
        "            if letter in guessmade:\n",
        "                main = main + letter\n",
        "            else:\n",
        "                main = main + \"_\"+\" \"\n",
        "        print(\"Guess the word  \",main)\n",
        "        if(main == words):\n",
        "            print(main)\n",
        "            print(\"You Won!!\")\n",
        "            break\n",
        "        guess = input(\"Enter your guess: \")\n",
        "        guessmade = guessmade + guess\n",
        "        if guess not in words:\n",
        "            count -= 1\n",
        "            if(count == 9):\n",
        "                print(\"You have 9 chances left\")\n",
        "                print(\"_________\")\n",
        "                print(\"    o    \")\n",
        "                print(\"---------\")\n",
        "            elif (count == 8):\n",
        "                print(\"You have 8 chances left\")\n",
        "                print(\"_________\")\n",
        "                print(\"    o    \")\n",
        "                print(\"    |    \")\n",
        "                print(\"---------\")\n",
        "            elif (count == 7):\n",
        "                print(\"You have 7 chances left\")\n",
        "                print(\"_________\")\n",
        "                print(\"    o    \")\n",
        "                print(\"    |    \")\n",
        "                print(\"   /     \")\n",
        "                print(\"---------\")\n",
        "            elif (count == 6):\n",
        "                print(\"You have 6 chances left\")\n",
        "                print(\"_________\")\n",
        "                print(\"    o    \")\n",
        "                print(\"    |    \")\n",
        "                print(\"   / \\   \")\n",
        "                print(\"---------\")\n",
        "            elif (count == 5):\n",
        "                print(\"You have 5 chances left\")\n",
        "                print(\"_________\")\n",
        "                print(\"  \\ o    \")\n",
        "                print(\"    |    \")\n",
        "                print(\"   / \\   \")\n",
        "                print(\"---------\")\n",
        "            elif (count == 4):\n",
        "                print(\"You have 4 chances left\")\n",
        "                print(\"_________\")\n",
        "                print(\"  \\ o /  \")\n",
        "                print(\"    |    \")\n",
        "                print(\"   / \\   \")\n",
        "                print(\"---------\")\n",
        "            elif (count == 3):\n",
        "                print(\"You have 3 chances left\")\n",
        "                print(\"The kind man is going to die soon_see the rope to his neck\")\n",
        "                print(\"_________\")\n",
        "                print(\"  \\ o_/  \")\n",
        "                print(\"    |    \")\n",
        "                print(\"   / \\   \")\n",
        "                print(\"---------\")\n",
        "            elif (count == 2):\n",
        "                print(\"You have 2 chances left\")\n",
        "                print(\"The rope is tightend to ceiling\")\n",
        "                print(\"_________\")\n",
        "                print(\"  \\ o_|/  \")\n",
        "                print(\"    |    \")\n",
        "                print(\"   / \\   \")\n",
        "                print(\"---------\")\n",
        "            elif (count == 1):\n",
        "                print(\"You have 1 chances left\")\n",
        "                print(\"Removing the basement below his legs\")\n",
        "                print(\"_________\")\n",
        "                print(\"  \\ o_|/  \")\n",
        "                print(\"    |    \")\n",
        "                print(\"   / \\   \")\n",
        "            elif (count == 0):\n",
        "                print(\"You have 0 chances left\")\n",
        "                print(\"You killed the kind man!!\")\n",
        "                print(\"_________\")\n",
        "                print(\"    o_|  \")\n",
        "                print(\"   /|\\   \")\n",
        "                print(\"   / \\   \")\n",
        "                break\n",
        "                \n",
        "\n",
        "        \n",
        "\n",
        "name = input(\"Enter your name: \")\n",
        "print(\"Welcome\",name.title())\n",
        "print(\"-----------------------------\\n\")\n",
        "print(\"You need to guess the correct word in 10 attempts\\n\")\n",
        "guess_game()"
      ],
      "execution_count": null,
      "outputs": []
    },
    {
      "cell_type": "markdown",
      "metadata": {
        "id": "p81ftqpx9hv8",
        "colab_type": "text"
      },
      "source": [
        "# ***Raja's*** **TIC-TAC-TOE**"
      ]
    },
    {
      "cell_type": "code",
      "metadata": {
        "id": "Qy3Vr0U19wX0",
        "colab_type": "code",
        "colab": {}
      },
      "source": [
        "board = [' ' for i in range(10)]\n",
        "import random\n",
        "def insertLetter(letter,pos):\n",
        "    board[pos] = letter\n",
        "\n",
        "def spacethere(pos):\n",
        "    return board[pos] == ' '\n",
        "\n",
        "def printboard(board):\n",
        "    print('   |   |   ')\n",
        "    print(' '+board[1]+' | '+board[2]+' | '+board[3]+' ')\n",
        "    print('   |   |   ')\n",
        "    print('------------')\n",
        "    print('   |   |   ')\n",
        "    print(' '+board[4]+' | '+board[5]+' | '+board[6]+' ')\n",
        "    print('   |   |   ')\n",
        "    print('------------')\n",
        "    print('   |   |   ')\n",
        "    print(' '+board[7]+' | '+board[8]+' | '+board[9]+' ')\n",
        "    print('   |   |   ')\n",
        "\n",
        "def boardfull(board):\n",
        "    if board.count(' ') > 1:\n",
        "        return False\n",
        "    else:\n",
        "        return True\n",
        "\n",
        "def winner(b,l):\n",
        "    return ((b[1] == l and b[2] == l and b[3] == l) or (b[4] == l and b[5] == l and b[6] == l) or\n",
        "           (b[7] == l and b[8] == l and b[9] == l) or (b[1] == l and b[4] == l and b[7] == l) or \n",
        "           (b[2] == l and b[5] == l and b[8] == l) or (b[3] == l and b[6] == l and b[9] == l) or \n",
        "           (b[1] == l and b[5] == l and b[9] == l) or (b[3] == l and b[5] == l and b[7] == l))\n",
        "\n",
        "def playermove():\n",
        "    run = True\n",
        "    while run:\n",
        "        move = input(\"Enter position to insert 'X' at 1 to 9 : \")\n",
        "        try:\n",
        "            move = int(move)\n",
        "            if move > 0 and move < 10:\n",
        "                if spacethere(move):\n",
        "                    insertLetter('X',move)\n",
        "                    run = False\n",
        "                else:\n",
        "                    print(\"Sorry!! The position is occupied\")\n",
        "            else:\n",
        "                print(\"Enter value between 1 to 9\")\n",
        "        except:\n",
        "            print('Enter Numeric Value')\n",
        "\n",
        "def computermove():\n",
        "    possiblemoves = [x for x,letter in enumerate(board) if letter == ' ' and x != 0]\n",
        "    move = 0\n",
        "    for let in ['O','X']:\n",
        "        for i in possiblemoves:\n",
        "            boardcopy = board[:]\n",
        "            boardcopy[i] = let\n",
        "            if winner(boardcopy, let):\n",
        "                move = i\n",
        "                return move\n",
        "    corners = []\n",
        "    for i in possiblemoves:\n",
        "        if i in [1,3,7,9]:\n",
        "            corners.append(i)\n",
        "    if len(corners) > 0:\n",
        "        move = random.choice(corners)\n",
        "        return move\n",
        "    if 5 in possiblemoves:\n",
        "        move = 5\n",
        "        return move\n",
        "    edges=[]\n",
        "    for i in possiblemoves:\n",
        "        if i in [2,4,6,8]:\n",
        "            edges.append(i)\n",
        "    if len(edges) > 0:\n",
        "        move = random.choice(edges)\n",
        "        return move\n",
        "    \n",
        "def main():\n",
        "    print(\"Welcome to TIC-TAC-TOE\")\n",
        "    printboard(board)\n",
        "    while not(boardfull(board)):\n",
        "        if not(winner(board, 'O')):\n",
        "            playermove()\n",
        "            print()\n",
        "            printboard(board)\n",
        "        else:\n",
        "            print(\"Sorry You Lose!!\")\n",
        "            break\n",
        "\n",
        "        if not(winner(board, 'X')):\n",
        "            move = computermove()\n",
        "            if move==0:\n",
        "                print(\"\")\n",
        "            else:\n",
        "                insertLetter('O', move)\n",
        "                print(\"Computer inserted 'O' at\",move)\n",
        "                print()\n",
        "                printboard(board)\n",
        "        else:\n",
        "            print(\"You Win!!\")\n",
        "            break\n",
        "    \n",
        "    if boardfull(board):\n",
        "        print(\"Tie Game!!\")\n",
        "\n",
        "while True:\n",
        "    choice = input(\"Enter 'Y' to play or 'N' to exit\")\n",
        "    if choice.lower() == 'y':\n",
        "        board = [' ' for x in range(10)]\n",
        "        print(\"--------------------------\")\n",
        "        main()\n",
        "    else:\n",
        "        break\n",
        "\n",
        "        \n",
        "\n",
        "\n"
      ],
      "execution_count": null,
      "outputs": []
    },
    {
      "cell_type": "code",
      "metadata": {
        "id": "uP_UHKuJ83I1",
        "colab_type": "code",
        "colab": {}
      },
      "source": [
        ""
      ],
      "execution_count": null,
      "outputs": []
    },
    {
      "cell_type": "code",
      "metadata": {
        "id": "mLsOXVYp83G6",
        "colab_type": "code",
        "colab": {}
      },
      "source": [
        ""
      ],
      "execution_count": null,
      "outputs": []
    },
    {
      "cell_type": "code",
      "metadata": {
        "id": "2r6uE4LZ83DF",
        "colab_type": "code",
        "colab": {}
      },
      "source": [
        "import ColabTurtle"
      ],
      "execution_count": null,
      "outputs": []
    },
    {
      "cell_type": "code",
      "metadata": {
        "id": "cbgChhso6YUk",
        "colab_type": "code",
        "colab": {}
      },
      "source": [
        "t = ColabTurtle.Turtle"
      ],
      "execution_count": null,
      "outputs": []
    },
    {
      "cell_type": "code",
      "metadata": {
        "id": "XVbT1TNQ6c-9",
        "colab_type": "code",
        "colab": {}
      },
      "source": [
        "def Rectangle(t):\n",
        "    t.color('red')\n",
        "    t.forward(100)\n",
        "    t.left(90)\n",
        "    t.forward(110)\n",
        "    t.left(90)\n",
        "    t.forward(100)\n",
        "    t.left(90)\n",
        "    t.forward(110)\n",
        "    t.left(90)"
      ],
      "execution_count": null,
      "outputs": []
    },
    {
      "cell_type": "code",
      "metadata": {
        "id": "5NpgBGkOCEs2",
        "colab_type": "code",
        "colab": {}
      },
      "source": [
        "def triangle(t):\n",
        "    t.color('green')\n",
        "    t.forward(100)\n",
        "    t.left(135)\n",
        "    t.forward(70)\n",
        "    t.left(90)\n",
        "    t.forward(70)\n",
        "    t.left(135)"
      ],
      "execution_count": null,
      "outputs": []
    },
    {
      "cell_type": "code",
      "metadata": {
        "id": "W1XtyRLd6yCW",
        "colab_type": "code",
        "colab": {}
      },
      "source": [
        "Rectangle(t)\n",
        "triangle(t)"
      ],
      "execution_count": null,
      "outputs": []
    }
  ]
}